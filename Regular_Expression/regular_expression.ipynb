{
 "cells": [
  {
   "cell_type": "code",
   "execution_count": 1,
   "metadata": {},
   "outputs": [],
   "source": [
    "import re"
   ]
  },
  {
   "cell_type": "markdown",
   "metadata": {},
   "source": [
    "## re.match"
   ]
  },
  {
   "cell_type": "code",
   "execution_count": 2,
   "metadata": {},
   "outputs": [],
   "source": [
    "# match the pattern in beginning of string\n",
    "pattern = re.compile(r\"ab\") \n",
    "result = pattern.match('abcd')\n",
    "\n",
    "print(f'matching pattern: {result.group()}, index: {result.span()}')"
   ]
  },
  {
   "cell_type": "code",
   "execution_count": 3,
   "metadata": {},
   "outputs": [],
   "source": [
    "# it's equal to below expression\n",
    "regex = r\"ab\"\n",
    "result = re.match(regex, \"abcd\")\n",
    "print(f'matching pattern: {result.group()}')"
   ]
  },
  {
   "cell_type": "code",
   "execution_count": 4,
   "metadata": {},
   "outputs": [
    {
     "name": "stdout",
     "output_type": "stream",
     "text": [
      "None\n"
     ]
    }
   ],
   "source": [
    "# not match in beginning sentence, return None\n",
    "pattern = re.compile(r\"bc\") \n",
    "result = pattern.match('abcd')\n",
    "\n",
    "if result: \n",
    "    print(result.group())\n",
    "else: \n",
    "    print(result)"
   ]
  },
  {
   "cell_type": "markdown",
   "metadata": {},
   "source": [
    "## re.search"
   ]
  },
  {
   "cell_type": "code",
   "execution_count": 5,
   "metadata": {},
   "outputs": [
    {
     "name": "stdout",
     "output_type": "stream",
     "text": [
      "de\n"
     ]
    }
   ],
   "source": [
    "# match the pattern in all string, return the first matching words, else return None \n",
    "pattern = re.compile(r\"[d-e]+\") \n",
    "result = pattern.search('abc de ca')\n",
    "\n",
    "if result: \n",
    "    print(result.group())\n",
    "else: \n",
    "    print(\"not match\")"
   ]
  },
  {
   "cell_type": "markdown",
   "metadata": {},
   "source": [
    "## re.findall"
   ]
  },
  {
   "cell_type": "code",
   "execution_count": 6,
   "metadata": {},
   "outputs": [
    {
     "name": "stdout",
     "output_type": "stream",
     "text": [
      "['abc', 'de', 'ca']\n"
     ]
    }
   ],
   "source": [
    "# returns a list of strings containing all matches. If the pattern is not found, returns an empty list.\n",
    "pattern = re.compile(r\"[a-z]+\") \n",
    "result = pattern.findall('abc de ca')\n",
    "\n",
    "print(result)"
   ]
  },
  {
   "cell_type": "markdown",
   "metadata": {},
   "source": [
    "## re.sub(pattern, replace, string)"
   ]
  },
  {
   "cell_type": "code",
   "execution_count": 7,
   "metadata": {},
   "outputs": [
    {
     "name": "stdout",
     "output_type": "stream",
     "text": [
      "abc12\\de23f456\n"
     ]
    }
   ],
   "source": [
    "# returns a string where matched occurrences are replaced with the content of replace variable.\n",
    "string = 'abc 12\\de 23 \\n f45 6' \n",
    "new_string = re.sub(\"\\s\", '', string)\n",
    "print(new_string)"
   ]
  },
  {
   "cell_type": "markdown",
   "metadata": {},
   "source": [
    "## example "
   ]
  },
  {
   "cell_type": "code",
   "execution_count": 8,
   "metadata": {},
   "outputs": [
    {
     "name": "stdout",
     "output_type": "stream",
     "text": [
      "axz\n"
     ]
    }
   ],
   "source": [
    "pattern = re.compile(r\"(a|b|c)xz\") \n",
    "result = pattern.search(\"axz cabxz\")\n",
    "\n",
    "print(result.group())"
   ]
  },
  {
   "cell_type": "code",
   "execution_count": 9,
   "metadata": {},
   "outputs": [
    {
     "data": {
      "text/plain": [
       "['a', 'b']"
      ]
     },
     "execution_count": 9,
     "metadata": {},
     "output_type": "execute_result"
    }
   ],
   "source": [
    "# re.findall returns captured texts if the regex pattern contains capturing groups in it\n",
    "re.findall(r\"(a|b|c)xz\",\"axz cabxz\")"
   ]
  },
  {
   "cell_type": "code",
   "execution_count": 10,
   "metadata": {},
   "outputs": [
    {
     "data": {
      "text/plain": [
       "['axz', 'bxz']"
      ]
     },
     "execution_count": 10,
     "metadata": {},
     "output_type": "execute_result"
    }
   ],
   "source": [
    "# change into non capture group\n",
    "re.findall(r\"(?:a|b|c)xz\",\"axz cabxz\")"
   ]
  },
  {
   "cell_type": "code",
   "execution_count": 11,
   "metadata": {},
   "outputs": [
    {
     "data": {
      "text/plain": [
       "['axz', 'bxz']"
      ]
     },
     "execution_count": 11,
     "metadata": {},
     "output_type": "execute_result"
    }
   ],
   "source": [
    "re.findall(r\"[a|b|c]xz\",\"axz cabxz\")"
   ]
  },
  {
   "cell_type": "code",
   "execution_count": 12,
   "metadata": {},
   "outputs": [
    {
     "name": "stdout",
     "output_type": "stream",
     "text": [
      "['123', '3.1415926']\n"
     ]
    }
   ],
   "source": [
    "s = r'abc123d, hello 3.1415926, this is my book'\n",
    "pattern = r'-?\\d*\\.?\\d+'\n",
    "L = re.findall(pattern, s)\n",
    "print(L)"
   ]
  }
 ],
 "metadata": {
  "kernelspec": {
   "display_name": "Python 3",
   "language": "python",
   "name": "python3"
  },
  "language_info": {
   "codemirror_mode": {
    "name": "ipython",
    "version": 3
   },
   "file_extension": ".py",
   "mimetype": "text/x-python",
   "name": "python",
   "nbconvert_exporter": "python",
   "pygments_lexer": "ipython3",
   "version": "3.6.9"
  }
 },
 "nbformat": 4,
 "nbformat_minor": 4
}
